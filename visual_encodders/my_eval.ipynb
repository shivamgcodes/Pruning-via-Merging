{
 "cells": [
  {
   "cell_type": "code",
   "execution_count": 1,
   "metadata": {},
   "outputs": [],
   "source": [
    "# read take the model, read the directory, usmein baki models, and then run 5 - 5 examples of each of the two from all of them , run CKA on the \n",
    "# extracted embeddings  "
   ]
  },
  {
   "cell_type": "code",
   "execution_count": 2,
   "metadata": {},
   "outputs": [],
   "source": [
    "import os\n",
    "from transformers import AutoModel, AutoImageProcessor\n",
    "import torch\n",
    "import pandas as pd\n",
    "from PIL import Image\n",
    "import random\n",
    "import matplotlib.pyplot as plt\n",
    "import gc\n",
    "from tqdm import tqdm\n"
   ]
  },
  {
   "cell_type": "code",
   "execution_count": 3,
   "metadata": {},
   "outputs": [],
   "source": [
    "os.environ['PYTORCH_CUDA_ALLOC_CONF'] = 'expandable_segments:True'"
   ]
  },
  {
   "cell_type": "code",
   "execution_count": 4,
   "metadata": {},
   "outputs": [
    {
     "name": "stdout",
     "output_type": "stream",
     "text": [
      "Using GPU: NVIDIA GeForce GTX 1650\n"
     ]
    }
   ],
   "source": [
    "if torch.cuda.is_available():\n",
    "    device = torch.device(\"cuda\")\n",
    "    print(\"Using GPU:\", torch.cuda.get_device_name(0))\n",
    "else:\n",
    "    device = torch.device(\"cpu\")\n",
    "    print(\"Using CPU\")\n",
    "\n",
    "def clear_memory():\n",
    "    \"\"\"\n",
    "    Clears Python and CUDA memory to free up resources.\n",
    "    \"\"\"\n",
    "    gc.collect()  # Trigger garbage collection\n",
    "    if torch.cuda.is_available() and device == 'cuda':\n",
    "        torch.cuda.empty_cache()  # Empty CUDA cache if available "
   ]
  },
  {
   "cell_type": "code",
   "execution_count": 5,
   "metadata": {},
   "outputs": [],
   "source": [
    "\n",
    "model_name  = 'facebook/vit-msn-base-4'\n",
    "layers = 1\n",
    "number = 1\n",
    "base_dir = f\"/visual_data/yangzhao/point/EMNLP2024/layer_fus/al/{model_name}/fused_{number}_layers/iteration/merged_weights/\"\n",
    "val_csv = r\"..\\val_csv\"\n",
    "val_images = r\"..\\val_images\"\n",
    "\n",
    "classA = 'n07920052'\n",
    "classB = 'n01484850'\n",
    "num_images = 25\n",
    "global tokenizer\n",
    "\n",
    "random.seed(42)\n"
   ]
  },
  {
   "cell_type": "code",
   "execution_count": 6,
   "metadata": {},
   "outputs": [],
   "source": [
    "#temp\n",
    "base_dir=r\"C:\\visual_data\\yangzhao\\point\\EMNLP2024\\layer_fus\\al\\vit-msn-base-4\\fused_1_layers\\iteration\\merged_weights\"\n"
   ]
  },
  {
   "cell_type": "code",
   "execution_count": 7,
   "metadata": {},
   "outputs": [],
   "source": [
    "def centering(K):\n",
    "    n = K.shape[0]\n",
    "    data_type= K.dtype\n",
    "    unit = torch.ones([n, n]).to(device, dtype=data_type)\n",
    "    I = torch.eye(n).to(device, dtype=data_type)\n",
    "    H = I - unit / n\n",
    "\n",
    "    return ((H@ K)@ H)  # HKH are the same with KH, KH is the first centering, H(KH) do the second time, results are the sme with one time centering\n",
    "    # return np.dot(H, K)  # KH\n",
    "\n",
    "\n",
    "def rbf(X, sigma=None):\n",
    "    GX = (X@ X.T).to(device)\n",
    "    KX = torch.diag(GX) - GX + (torch.diag(GX) - GX).T\n",
    "    if sigma is None:\n",
    "        mdist = torch.median(KX[KX != 0])\n",
    "        sigma = torch.sqrt(mdist)\n",
    "    KX *= - 0.5 / (sigma * sigma)\n",
    "    KX = torch.exp(KX).to(device)\n",
    "    return KX\n",
    "\n",
    "\n",
    "def kernel_HSIC(X, Y, sigma):\n",
    "    return torch.sum(centering(rbf(X, sigma)) * centering(rbf(Y, sigma)))\n",
    "\n",
    "\n",
    "def linear_HSIC(X, Y):\n",
    "    L_X = (X@ X.T)\n",
    "    L_Y = (Y@ Y.T)\n",
    "    return torch.sum(centering(L_X) * centering(L_Y))\n",
    "\n",
    "\n",
    "def linear_CKA(X, Y):\n",
    "    hsic = linear_HSIC(X, Y)\n",
    "    var1 = torch.sqrt(linear_HSIC(X, X))\n",
    "    var2 = torch.sqrt(linear_HSIC(Y, Y))\n",
    "\n",
    "    return hsic / (var1 * var2)\n",
    "\n",
    "\n",
    "def kernel_CKA(X, Y, sigma=None):\n",
    "    hsic = kernel_HSIC(X, Y, sigma)\n",
    "    var1 = torch.sqrt(kernel_HSIC(X, X, sigma))\n",
    "    var2 = torch.sqrt(kernel_HSIC(Y, Y, sigma))\n",
    "\n",
    "    return hsic / (var1 * var2)\n",
    "\n"
   ]
  },
  {
   "cell_type": "code",
   "execution_count": 8,
   "metadata": {},
   "outputs": [],
   "source": [
    "@torch.no_grad\n",
    "def latent_embeddings_for_class(classA, num_images):\n",
    "    cur_csv = os.path.join(val_csv , (classA+ '.csv'))\n",
    "    df = pd.read_csv(cur_csv, header = None)\n",
    "    embeddings = []\n",
    "    for i in tqdm(range(num_images)):\n",
    "        image_name = df.iloc[random.randint(1, 50), 0]\n",
    "        image_path = os.path.join(val_images, image_name)\n",
    "        image =Image.open(image_path)\n",
    "\n",
    "        inputs = tokenizer(image, return_tensors=\"pt\").to(device).to(torch.bfloat16)\n",
    "        \n",
    "        output = model(**inputs)\n",
    "        embeddings.append(output.last_hidden_state[0,1])\n",
    "\n",
    "        del inputs\n",
    "        del image\n",
    "        del output\n",
    "        clear_memory()\n",
    "        torch.cuda.empty_cache()\n",
    "\n",
    "        \n",
    "        \n",
    "    \n",
    "    embeddings = torch.stack(embeddings)\n",
    "    return embeddings\n",
    "\n",
    "\n",
    "\n",
    "def eval_meth(classA, classB, num_images ):\n",
    "    \n",
    "    X= latent_embeddings_for_class( classA, num_images)\n",
    "    Y= latent_embeddings_for_class( classB, num_images)\n",
    "    \n",
    "    cka_score = linear_CKA(X,Y)\n",
    "    clear_memory()\n",
    "    return cka_score"
   ]
  },
  {
   "cell_type": "code",
   "execution_count": 9,
   "metadata": {},
   "outputs": [
    {
     "name": "stderr",
     "output_type": "stream",
     "text": [
      "c:\\Users\\hp\\miniconda3\\envs\\mka_research\\lib\\site-packages\\torch\\cuda\\__init__.py:165: UserWarning: expandable_segments not supported on this platform (Triggered internally at C:\\actions-runner\\_work\\pytorch\\pytorch\\builder\\windows\\pytorch\\c10/cuda/CUDAAllocatorConfig.h:28.)\n",
      "  torch.tensor([1.0], dtype=torch.bfloat16, device=device)\n"
     ]
    },
    {
     "name": "stdout",
     "output_type": "stream",
     "text": [
      "['T_destination', '__annotations__', '__call__', '__class__', '__delattr__', '__dict__', '__dir__', '__doc__', '__eq__', '__format__', '__ge__', '__getattr__', '__getattribute__', '__getstate__', '__gt__', '__hash__', '__init__', '__init_subclass__', '__le__', '__lt__', '__module__', '__ne__', '__new__', '__reduce__', '__reduce_ex__', '__repr__', '__setattr__', '__setstate__', '__sizeof__', '__str__', '__subclasshook__', '__weakref__', '_apply', '_assisted_decoding', '_auto_class', '_autoset_attn_implementation', '_backward_compatibility_gradient_checkpointing', '_backward_hooks', '_backward_pre_hooks', '_beam_search', '_buffers', '_call_impl', '_check_and_enable_flash_attn_2', '_check_and_enable_flex_attn', '_check_and_enable_sdpa', '_compiled_call_impl', '_constrained_beam_search', '_contrastive_search', '_convert_head_mask_to_5d', '_copy_lm_head_original_to_resized', '_create_repo', '_dispatch_accelerate_model', '_dola_decoding', '_expand_inputs_for_generation', '_extract_past_from_model_output', '_fix_state_dict_key_on_load', '_fix_state_dict_key_on_save', '_fix_state_dict_keys_on_load', '_fix_state_dict_keys_on_save', '_forward_hooks', '_forward_hooks_always_called', '_forward_hooks_with_kwargs', '_forward_pre_hooks', '_forward_pre_hooks_with_kwargs', '_from_config', '_get_backward_hooks', '_get_backward_pre_hooks', '_get_cache', '_get_candidate_generator', '_get_files_timestamps', '_get_initial_cache_position', '_get_logits_processor', '_get_name', '_get_no_split_modules', '_get_resized_embeddings', '_get_resized_lm_head', '_get_stopping_criteria', '_group_beam_search', '_has_unfinished_sequences', '_hf_peft_config_loaded', '_hook_rss_memory_post_forward', '_hook_rss_memory_pre_forward', '_init_added_embeddings_weights_with_mean', '_init_added_lm_head_bias_with_mean', '_init_added_lm_head_weights_with_mean', '_init_weights', '_initialize_weights', '_is_full_backward_hook', '_is_hf_initialized', '_is_stateful', '_keep_in_fp32_modules', '_keep_in_fp32_modules', '_keys_to_ignore_on_load_missing', '_keys_to_ignore_on_load_unexpected', '_keys_to_ignore_on_save', '_load_from_state_dict', '_load_pretrained_model', '_load_pretrained_model_low_mem', '_load_state_dict_post_hooks', '_load_state_dict_pre_hooks', '_maybe_initialize_input_ids_for_generation', '_maybe_warn_non_full_backward_hook', '_merge_criteria_processor_list', '_modules', '_named_members', '_no_split_modules', '_non_persistent_buffers_set', '_parameters', '_prepare_attention_mask_for_generation', '_prepare_cache_for_generation', '_prepare_decoder_input_ids_for_generation', '_prepare_encoder_decoder_kwargs_for_generation', '_prepare_generated_length', '_prepare_generation_config', '_prepare_model_inputs', '_prepare_special_tokens', '_prune_heads', '_register_load_state_dict_pre_hook', '_register_state_dict_hook', '_reorder_cache', '_replicate_for_data_parallel', '_resize_token_embeddings', '_sample', '_save_to_state_dict', '_set_default_torch_dtype', '_set_gradient_checkpointing', '_skip_keys_device_placement', '_slow_forward', '_state_dict_hooks', '_state_dict_pre_hooks', '_supports_cache_class', '_supports_default_dynamic_cache', '_supports_flash_attn_2', '_supports_flex_attn', '_supports_num_logits_to_keep', '_supports_quantized_cache', '_supports_sdpa', '_supports_static_cache', '_temporary_reorder_cache', '_tie_encoder_decoder_weights', '_tie_or_clone_weights', '_tied_weights_keys', '_tp_plan', '_tp_plan', '_update_model_kwargs_for_generation', '_upload_modified_files', '_validate_assistant', '_validate_generated_length', '_validate_model_class', '_validate_model_kwargs', '_version', '_wrapped_call_impl', 'active_adapter', 'active_adapters', 'add_adapter', 'add_memory_hooks', 'add_model_tags', 'add_module', 'apply', 'base_model', 'base_model_prefix', 'bfloat16', 'buffers', 'call_super_init', 'can_generate', 'children', 'compile', 'compute_transition_scores', 'config', 'config_class', 'cpu', 'create_extended_attention_mask_for_decoder', 'cuda', 'delete_adapter', 'dequantize', 'device', 'disable_adapters', 'disable_input_require_grads', 'double', 'dtype', 'dummy_inputs', 'dump_patches', 'embeddings', 'enable_adapters', 'enable_input_require_grads', 'encoder', 'estimate_tokens', 'eval', 'extra_repr', 'float', 'floating_point_ops', 'forward', 'framework', 'from_pretrained', 'generate', 'generation_config', 'get_adapter_state_dict', 'get_buffer', 'get_compiled_call', 'get_extended_attention_mask', 'get_extra_state', 'get_head_mask', 'get_input_embeddings', 'get_memory_footprint', 'get_output_embeddings', 'get_parameter', 'get_position_embeddings', 'get_submodule', 'gradient_checkpointing_disable', 'gradient_checkpointing_enable', 'half', 'heal_tokens', 'hf_device_map', 'init_weights', 'invert_attention_mask', 'ipu', 'is_gradient_checkpointing', 'is_parallelizable', 'layernorm', 'load_adapter', 'load_state_dict', 'loss_function', 'loss_type', 'main_input_name', 'model_tags', 'modules', 'mtia', 'name_or_path', 'named_buffers', 'named_children', 'named_modules', 'named_parameters', 'num_parameters', 'parameters', 'post_init', 'prepare_inputs_for_generation', 'prune_heads', 'push_to_hub', 'register_backward_hook', 'register_buffer', 'register_for_auto_class', 'register_forward_hook', 'register_forward_pre_hook', 'register_full_backward_hook', 'register_full_backward_pre_hook', 'register_load_state_dict_post_hook', 'register_load_state_dict_pre_hook', 'register_module', 'register_parameter', 'register_state_dict_post_hook', 'register_state_dict_pre_hook', 'requires_grad_', 'reset_memory_hooks_state', 'resize_position_embeddings', 'resize_token_embeddings', 'retrieve_modules_from_names', 'reverse_bettertransformer', 'save_pretrained', 'set_adapter', 'set_extra_state', 'set_input_embeddings', 'set_submodule', 'share_memory', 'state_dict', 'supports_gradient_checkpointing', 'supports_tp_plan', 'tensor_parallel', 'tie_weights', 'to', 'to_bettertransformer', 'to_empty', 'train', 'training', 'type', 'warn_if_padding_and_no_attention_mask', 'warnings_issued', 'xpu', 'zero_grad']\n"
     ]
    },
    {
     "name": "stderr",
     "output_type": "stream",
     "text": [
      " 20%|██        | 5/25 [00:17<01:11,  3.56s/it]\n"
     ]
    },
    {
     "ename": "KeyboardInterrupt",
     "evalue": "",
     "output_type": "error",
     "traceback": [
      "\u001b[1;31m---------------------------------------------------------------------------\u001b[0m",
      "\u001b[1;31mKeyboardInterrupt\u001b[0m                         Traceback (most recent call last)",
      "Cell \u001b[1;32mIn[9], line 22\u001b[0m\n\u001b[0;32m     20\u001b[0m model\u001b[38;5;241m.\u001b[39meval()\n\u001b[0;32m     21\u001b[0m model \u001b[38;5;241m=\u001b[39m model\u001b[38;5;241m.\u001b[39mto(device)\n\u001b[1;32m---> 22\u001b[0m cur_score \u001b[38;5;241m=\u001b[39m \u001b[43meval_meth\u001b[49m\u001b[43m(\u001b[49m\u001b[43mclassA\u001b[49m\u001b[43m,\u001b[49m\u001b[43m \u001b[49m\u001b[43mclassB\u001b[49m\u001b[43m,\u001b[49m\u001b[43m \u001b[49m\u001b[43mnum_images\u001b[49m\u001b[43m)\u001b[49m\n\u001b[0;32m     24\u001b[0m cka_score_list\u001b[38;5;241m.\u001b[39mappend(eval_meth(classA, classB, num_images)\u001b[38;5;241m.\u001b[39mitem())\n\u001b[0;32m     25\u001b[0m cka_score_list\u001b[38;5;241m.\u001b[39mappend(cur_score\u001b[38;5;241m.\u001b[39mitem())\n",
      "Cell \u001b[1;32mIn[8], line 32\u001b[0m, in \u001b[0;36meval_meth\u001b[1;34m(classA, classB, num_images)\u001b[0m\n\u001b[0;32m     30\u001b[0m \u001b[38;5;28;01mdef\u001b[39;00m\u001b[38;5;250m \u001b[39m\u001b[38;5;21meval_meth\u001b[39m(classA, classB, num_images ):\n\u001b[1;32m---> 32\u001b[0m     X\u001b[38;5;241m=\u001b[39m \u001b[43mlatent_embeddings_for_class\u001b[49m\u001b[43m(\u001b[49m\u001b[43m \u001b[49m\u001b[43mclassA\u001b[49m\u001b[43m,\u001b[49m\u001b[43m \u001b[49m\u001b[43mnum_images\u001b[49m\u001b[43m)\u001b[49m\n\u001b[0;32m     33\u001b[0m     Y\u001b[38;5;241m=\u001b[39m latent_embeddings_for_class( classB, num_images)\n\u001b[0;32m     35\u001b[0m     cka_score \u001b[38;5;241m=\u001b[39m linear_CKA(X,Y)\n",
      "File \u001b[1;32mc:\\Users\\hp\\miniconda3\\envs\\mka_research\\lib\\site-packages\\torch\\utils\\_contextlib.py:116\u001b[0m, in \u001b[0;36mcontext_decorator.<locals>.decorate_context\u001b[1;34m(*args, **kwargs)\u001b[0m\n\u001b[0;32m    113\u001b[0m \u001b[38;5;129m@functools\u001b[39m\u001b[38;5;241m.\u001b[39mwraps(func)\n\u001b[0;32m    114\u001b[0m \u001b[38;5;28;01mdef\u001b[39;00m\u001b[38;5;250m \u001b[39m\u001b[38;5;21mdecorate_context\u001b[39m(\u001b[38;5;241m*\u001b[39margs, \u001b[38;5;241m*\u001b[39m\u001b[38;5;241m*\u001b[39mkwargs):\n\u001b[0;32m    115\u001b[0m     \u001b[38;5;28;01mwith\u001b[39;00m ctx_factory():\n\u001b[1;32m--> 116\u001b[0m         \u001b[38;5;28;01mreturn\u001b[39;00m func(\u001b[38;5;241m*\u001b[39margs, \u001b[38;5;241m*\u001b[39m\u001b[38;5;241m*\u001b[39mkwargs)\n",
      "Cell \u001b[1;32mIn[8], line 20\u001b[0m, in \u001b[0;36mlatent_embeddings_for_class\u001b[1;34m(classA, num_images)\u001b[0m\n\u001b[0;32m     18\u001b[0m     \u001b[38;5;28;01mdel\u001b[39;00m output\n\u001b[0;32m     19\u001b[0m     clear_memory()\n\u001b[1;32m---> 20\u001b[0m     \u001b[43mtorch\u001b[49m\u001b[38;5;241;43m.\u001b[39;49m\u001b[43mcuda\u001b[49m\u001b[38;5;241;43m.\u001b[39;49m\u001b[43mempty_cache\u001b[49m\u001b[43m(\u001b[49m\u001b[43m)\u001b[49m\n\u001b[0;32m     25\u001b[0m embeddings \u001b[38;5;241m=\u001b[39m torch\u001b[38;5;241m.\u001b[39mstack(embeddings)\n\u001b[0;32m     26\u001b[0m \u001b[38;5;28;01mreturn\u001b[39;00m embeddings\n",
      "File \u001b[1;32mc:\\Users\\hp\\miniconda3\\envs\\mka_research\\lib\\site-packages\\torch\\cuda\\memory.py:192\u001b[0m, in \u001b[0;36mempty_cache\u001b[1;34m()\u001b[0m\n\u001b[0;32m    181\u001b[0m \u001b[38;5;250m\u001b[39m\u001b[38;5;124mr\u001b[39m\u001b[38;5;124;03m\"\"\"Release all unoccupied cached memory currently held by the caching\u001b[39;00m\n\u001b[0;32m    182\u001b[0m \u001b[38;5;124;03mallocator so that those can be used in other GPU application and visible in\u001b[39;00m\n\u001b[0;32m    183\u001b[0m \u001b[38;5;124;03m`nvidia-smi`.\u001b[39;00m\n\u001b[1;32m   (...)\u001b[0m\n\u001b[0;32m    189\u001b[0m \u001b[38;5;124;03m    more details about GPU memory management.\u001b[39;00m\n\u001b[0;32m    190\u001b[0m \u001b[38;5;124;03m\"\"\"\u001b[39;00m\n\u001b[0;32m    191\u001b[0m \u001b[38;5;28;01mif\u001b[39;00m is_initialized():\n\u001b[1;32m--> 192\u001b[0m     \u001b[43mtorch\u001b[49m\u001b[38;5;241;43m.\u001b[39;49m\u001b[43m_C\u001b[49m\u001b[38;5;241;43m.\u001b[39;49m\u001b[43m_cuda_emptyCache\u001b[49m\u001b[43m(\u001b[49m\u001b[43m)\u001b[49m\n",
      "\u001b[1;31mKeyboardInterrupt\u001b[0m: "
     ]
    }
   ],
   "source": [
    "cka_score_list = []\n",
    "\n",
    "tokenizer = AutoImageProcessor.from_pretrained(\n",
    "    model_name,\n",
    "    use_fast=True,             # Use the fast tokenizer implementation\n",
    "    trust_remote_code=True,    # Trust remote code (required for some models)\n",
    "    add_bos_token=False,       # Do not add beginning-of-sequence token\n",
    "    add_eos_token=False,       # Do not add end-of-sequence token\n",
    "    padding_side=\"left\"        # Pad sequences on the left side\n",
    ")\n",
    "\n",
    "# Load the pre-trained causal language model with appropriate settings\n",
    "model = AutoModel.from_pretrained(\n",
    "    model_name,\n",
    "    trust_remote_code=True,    # Trust remote code (required for some models)\n",
    "    device_map=\"auto\",         # Automatically map layers to available devices\n",
    "    torch_dtype=torch.bfloat16 if torch.cuda.is_bf16_supported() else torch.float32,  # Use bfloat16 if supported\n",
    ")\n",
    "print(dir(model))\n",
    "model.eval()\n",
    "model = model.to(device)\n",
    "cur_score = eval_meth(classA, classB, num_images)\n",
    "\n",
    "cka_score_list.append(eval_meth(classA, classB, num_images).item())\n",
    "cka_score_list.append(cur_score.item())\n",
    "print(cka_score_list)\n",
    "for number in range(layers):\n",
    "    \n",
    "    tokenizer = AutoImageProcessor.from_pretrained(\n",
    "        model_name,\n",
    "        use_fast=True,             # Use the fast tokenizer implementation\n",
    "        trust_remote_code=True,    # Trust remote code (required for some models)\n",
    "        add_bos_token=False,       # Do not add beginning-of-sequence token\n",
    "        add_eos_token=False,       # Do not add end-of-sequence token\n",
    "        padding_side=\"left\"        # Pad sequences on the left side\n",
    "    )\n",
    "\n",
    "    # Load the pre-trained causal language model with appropriate settings\n",
    "    model = AutoModel.from_pretrained(\n",
    "        base_dir,\n",
    "        trust_remote_code=True,    # Trust remote code (required for some models)\n",
    "        device_map=\"auto\",         # Automatically map layers to available devices\n",
    "        torch_dtype=torch.bfloat16 if torch.cuda.is_bf16_supported() else torch.float32,  # Use bfloat16 if supported\n",
    "    )\n",
    "    model = model.to(device)\n",
    "    cur_score = eval_meth(classA, classB, num_images)\n",
    "    cka_score_list.append(cur_score.item())\n",
    "\n",
    "print(cka_score_list)\n",
    "\n"
   ]
  },
  {
   "cell_type": "code",
   "execution_count": 10,
   "metadata": {},
   "outputs": [
    {
     "data": {
      "image/png": "[encoded data removed]",
      "text/plain": [
       "<Figure size 640x480 with 1 Axes>"
      ]
     },
     "metadata": {},
     "output_type": "display_data"
    }
   ],
   "source": [
    "\n",
    "plt.plot(cka_score_list, color='green', linestyle=':', marker='o')  # color, dotted line, and dots for points\n",
    "\n",
    "plt.xlabel('Index')\n",
    "plt.ylabel('Value')\n",
    "plt.ylim(0, 1)\n",
    "\n",
    "plt.grid(True)\n",
    "\n",
    "plt.show()"
   ]
  },
  {
   "cell_type": "code",
   "execution_count": 11,
   "metadata": {},
   "outputs": [
    {
     "name": "stdout",
     "output_type": "stream",
     "text": [
      "[0.19921875, 0.458984375]\n"
     ]
    }
   ],
   "source": [
    "print(cka_score_list)"
   ]
  },
  {
   "cell_type": "code",
   "execution_count": null,
   "metadata": {},
   "outputs": [],
   "source": []
  },
  {
   "cell_type": "code",
   "execution_count": null,
   "metadata": {},
   "outputs": [],
   "source": []
  },
  {
   "cell_type": "code",
   "execution_count": null,
   "metadata": {},
   "outputs": [],
   "source": []
  },
  {
   "cell_type": "code",
   "execution_count": 12,
   "metadata": {},
   "outputs": [],
   "source": [
    "# Linear CKA, between X and Y: 0.3921027743671094\n",
    "# Linear CKA, between X and X: 1.0000000000000002\n",
    "# RBF Kernel CKA, between X and Y: 0.5203295120301046\n",
    "# RBF Kernel CKA, between X and X: 1.0 with numpy"
   ]
  },
  {
   "cell_type": "code",
   "execution_count": null,
   "metadata": {},
   "outputs": [],
   "source": []
  },
  {
   "cell_type": "code",
   "execution_count": 13,
   "metadata": {},
   "outputs": [],
   "source": [
    "# with numpy\n",
    "# Linear CKA, between X and Y: 0.3921027743671094\n",
    "# # Linear CKA, between X and X: 1.0000000000000002\n",
    "# # RBF Kernel CKA, between X and Y: 0.5203295120301046\n",
    "# # RBF Kernel CKA, between X and X: 1.0 \n",
    "\n",
    "# #with torch\n",
    "# torch.cuda.DoubleTensor\n",
    "# Linear CKA, between X and Y: 0.3921027743671095\n",
    "# Linear CKA, between X and X: 1.0\n",
    "# RBF Kernel CKA, between X and Y: 0.5203309221903906\n",
    "# RBF Kernel CKA, between X and X: 0.9999999999999999\n"
   ]
  }
 ],
 "metadata": {
  "kernelspec": {
   "display_name": "mka_research",
   "language": "python",
   "name": "python3"
  },
  "language_info": {
   "codemirror_mode": {
    "name": "ipython",
    "version": 3
   },
   "file_extension": ".py",
   "mimetype": "text/x-python",
   "name": "python",
   "nbconvert_exporter": "python",
   "pygments_lexer": "ipython3",
   "version": "3.9.21"
  }
 },
 "nbformat": 4,
 "nbformat_minor": 2
}
